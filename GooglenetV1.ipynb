{
  "cells": [
    {
      "cell_type": "markdown",
      "metadata": {
        "id": "view-in-github",
        "colab_type": "text"
      },
      "source": [
        "<a href=\"https://colab.research.google.com/github/Sarvesh-Kesharwani/Deep-Learning/blob/main/GooglenetV1.ipynb\" target=\"_parent\"><img src=\"https://colab.research.google.com/assets/colab-badge.svg\" alt=\"Open In Colab\"/></a>"
      ]
    },
    {
      "cell_type": "code",
      "execution_count": null,
      "metadata": {
        "id": "lIYdn1woOS1n"
      },
      "outputs": [],
      "source": [
        "!pip install -q ivy\n",
        "\n",
        "!git clone https://github.com/unifyai/models.git\n",
        "!cd models && python3 -m pip install -q -e .\n",
        "\n",
        "!python3 -m pip install torchvision\n",
        "\n",
        "exit()"
      ]
    },
    {
      "cell_type": "code",
      "source": [
        "import ivy\n",
        "import torch\n",
        "from torchvision import transforms\n",
        "import numpy as np\n",
        "from PIL import Image\n"
      ],
      "metadata": {
        "id": "DIhwVfd0RNQY"
      },
      "execution_count": 1,
      "outputs": []
    },
    {
      "cell_type": "markdown",
      "source": [
        "# Inception model implementation"
      ],
      "metadata": {
        "id": "udG7M1wNiKy6"
      }
    },
    {
      "cell_type": "code",
      "source": [
        "\n",
        "# Building the initial Convolutional Block\n",
        "class ConvBlock(ivy.Module):\n",
        "    def __init__(self, in_channels, out_channels, kernel_size, stride, padding):\n",
        "        self.in_channels = in_channels\n",
        "        self.out_channels = out_channels\n",
        "        self.kernel_size = kernel_size\n",
        "        self.stride = stride\n",
        "        self.padding = padding\n",
        "        super(ConvBlock, self).__init__()\n",
        "\n",
        "    def _build(self, *args, **kwargs):\n",
        "        self.conv = ivy.Conv2D(self.in_channels, self.out_channels, self.kernel_size, self.stride, self.padding, with_bias=False)\n",
        "        self.bn = ivy.BatchNorm2D(self.out_channels)\n",
        "        self.activation = ivy.ReLU()\n",
        "\n",
        "    def _forward(self, x):\n",
        "        x = self.conv(x)\n",
        "        x = self.bn(x)\n",
        "        x = self.activation(x)\n",
        "        return x"
      ],
      "metadata": {
        "id": "IK1u-ViuRNL9"
      },
      "execution_count": 6,
      "outputs": []
    },
    {
      "cell_type": "code",
      "source": [
        "\n",
        "class Inception(ivy.Module):\n",
        "    def __init__(\n",
        "        self,\n",
        "        in_channels,\n",
        "        num1x1,\n",
        "        num3x3_reduce,\n",
        "        num3x3,\n",
        "        num5x5_reduce,\n",
        "        num5x5,\n",
        "        pool_proj,\n",
        "    ):\n",
        "        self.in_channels = in_channels\n",
        "        self.num1x1 = num1x1\n",
        "        self.num3x3_reduce = num3x3_reduce\n",
        "        self.num3x3 = num3x3\n",
        "        self.num5x5_reduce = num5x5_reduce\n",
        "        self.num5x5 = num5x5\n",
        "        self.pool_proj = pool_proj\n",
        "        super(Inception, self).__init__()\n",
        "\n",
        "    def _build(self, *args, **kwargs):\n",
        "        self.block1 = ivy.Sequential(ConvBlock(self.in_channels, self.num1x1, kernel_size=[1, 1], stride=1, padding=0)\n",
        "                                     )\n",
        "        self.block2 = ivy.Sequential(ConvBlock(self.in_channels, self.num3x3_reduce, kernel_size=[1, 1], stride=1, padding=0),\n",
        "                                    ConvBlock(self.num3x3_reduce, self.num3x3, kernel_size=[3, 3], stride=1, padding=1)\n",
        "                                    )\n",
        "        self.block3 = ivy.Sequential(ConvBlock(self.in_channels, self.num5x5_reduce, kernel_size=[1, 1], stride=1, padding=0),\n",
        "                                    ConvBlock(self.num5x5_reduce, self.num5x5, kernel_size=[3, 3], stride=1, padding=1)\n",
        "                                    )\n",
        "        self.block4 = ivy.Sequential(ivy.MaxPool2D(3, 1, 1),\n",
        "                                    ConvBlock(self.in_channels, self.pool_proj, kernel_size=[1, 1], stride=1, padding=0)\n",
        "                                    )\n",
        "\n",
        "    def _forward(self, x):\n",
        "        block1 = self.block1(x)\n",
        "        block2 = self.block2(x)\n",
        "        block3 = self.block3(x)\n",
        "        block4 = self.block4(x)\n",
        "\n",
        "        return ivy.concat([block1, block2, block3, block4], axis=3)"
      ],
      "metadata": {
        "id": "BnaGLv7hRT7S"
      },
      "execution_count": 7,
      "outputs": []
    },
    {
      "cell_type": "code",
      "source": [
        "\n",
        "class Auxiliary(ivy.Module):\n",
        "    def __init__(self, in_channels, num_classes):\n",
        "        self.in_channels = in_channels\n",
        "        self.num_classes = num_classes\n",
        "        super(Auxiliary, self).__init__()\n",
        "\n",
        "    def _build(self, *args, **kwargs):\n",
        "        self.pool = ivy.AvgPool2D((5, 5), 3, 0)  # ivy.Shape(1, 4, 4, 512)\n",
        "        self.bn = ivy.BatchNorm2D(128)\n",
        "        self.conv = ivy.Conv2D(self.in_channels, 128, [1,1], 1, 0, with_bias=False)\n",
        "        self.activation = ivy.ReLU()\n",
        "        self.fc1 = ivy.Linear(2048, 1024)\n",
        "        self.dropout = ivy.Dropout(0.7)\n",
        "        self.fc2 = ivy.Linear(1024, self.num_classes)\n",
        "\n",
        "    def _forward(self, x):\n",
        "        out = self.pool(x)\n",
        "        out = self.conv(out) # contains weights\n",
        "        out = self.activation(out)\n",
        "        out = ivy.flatten(out, start_dim=1)\n",
        "        out = self.fc1(out) # contains weights\n",
        "        out = self.activation(out)\n",
        "        out = self.dropout(out)\n",
        "        out = self.fc2(out) # contains weights\n",
        "        return out"
      ],
      "metadata": {
        "id": "XYekmDl8RT2t"
      },
      "execution_count": 8,
      "outputs": []
    },
    {
      "cell_type": "code",
      "source": [
        "\n",
        "class GoogLeNet(ivy.Module):\n",
        "    def __init__(self, num_classes=1000, v: ivy.Container = None,):\n",
        "        if v is not None:\n",
        "            self.v = v\n",
        "        self.num_classes = num_classes\n",
        "        super(GoogLeNet, self).__init__(v=v)\n",
        "\n",
        "    def _build(self, *args, **kwargs):\n",
        "        self.conv1 = ConvBlock(3, 64, [7,7], 2, 3)\n",
        "        self.pool1 = ivy.MaxPool2D([3,3], 2, 1)\n",
        "        self.conv2 = ConvBlock(64, 64, [1,1], 1, 0,)\n",
        "        self.conv3 = ConvBlock(64, 192, [3,3], 1, 1)\n",
        "        self.pool3 = ivy.MaxPool2D(3, 2, 1)\n",
        "        self.inception3A = Inception(192, 64, 96, 128, 16, 32, 32)\n",
        "        self.inception3B = Inception(256, 128, 128, 192, 32, 96, 64)\n",
        "        self.pool4 = ivy.MaxPool2D(3, 2, 1)\n",
        "\n",
        "        self.inception4A = Inception(480, 192, 96, 208, 16, 48, 64)\n",
        "\n",
        "        # ivy.flatten()\n",
        "        self.aux4A = Auxiliary(512, self.num_classes)\n",
        "\n",
        "        self.inception4B = Inception(512, 160, 112, 224, 24, 64, 64)\n",
        "        self.inception4C = Inception(512, 128, 128, 256, 24, 64, 64)\n",
        "        self.inception4D = Inception(512, 112, 144, 288, 32, 64, 64)\n",
        "\n",
        "        self.aux4D = Auxiliary(528, self.num_classes)\n",
        "\n",
        "        self.inception4E = Inception(528, 256, 160, 320, 32, 128, 128)\n",
        "        self.pool5 = ivy.MaxPool2D(3, 2, 1)\n",
        "\n",
        "        self.inception5A = Inception(832, 256, 160, 320, 32, 128, 128)\n",
        "        self.inception5B = Inception(832, 384, 192, 384, 48, 128,128)\n",
        "        self.pool6 = ivy.AvgPool2D((7,7), 1, 0) # ((1, 1))\n",
        "\n",
        "        # ivy.flatten()\n",
        "        self.dropout = ivy.Dropout(0.4)\n",
        "        self.fc = ivy.Linear(1024, self.num_classes)\n",
        "\n",
        "\n",
        "    def _forward(self, x):\n",
        "        out = self.conv1(x)\n",
        "        out = self.pool1(out)\n",
        "        out = self.conv2(out)\n",
        "        out = self.conv3(out)\n",
        "        out = self.pool3(out)\n",
        "        out = self.inception3A(out)\n",
        "        out = self.inception3B(out)\n",
        "        out = self.pool4(out)\n",
        "        out = self.inception4A(out)\n",
        "\n",
        "        aux1 = self.aux4A(out)\n",
        "\n",
        "        out = self.inception4B(out)\n",
        "        out = self.inception4C(out)\n",
        "        out = self.inception4D(out)\n",
        "\n",
        "        aux2 = self.aux4D(out)\n",
        "\n",
        "        out = self.inception4E(out)\n",
        "        out = self.pool5(out)\n",
        "        out = self.inception5A(out)\n",
        "        out = self.inception5B(out)\n",
        "        out = self.pool6(out)\n",
        "        out = ivy.flatten(out, start_dim=1)\n",
        "        out = self.dropout(out)\n",
        "        out = self.fc(out)\n",
        "\n",
        "        return out, aux1, aux2\n"
      ],
      "metadata": {
        "id": "RaBEdDZ1iSFt"
      },
      "execution_count": 9,
      "outputs": []
    },
    {
      "cell_type": "markdown",
      "source": [
        "# Setting up ivy compiler api key\n"
      ],
      "metadata": {
        "id": "_oHD5NQKiY42"
      }
    },
    {
      "cell_type": "code",
      "source": [
        "!mkdir .ivy\n",
        "!echo -n gDNLm8VEO7QleBN5GdTcfMa7OHWBOWcyOiHWr2KI654= > .ivy/key.pem"
      ],
      "metadata": {
        "id": "FWXhkvXXjx9o"
      },
      "execution_count": null,
      "outputs": []
    },
    {
      "cell_type": "code",
      "source": [
        "\n",
        "\n",
        "def preprocess_image_for_ivy_model(image):\n",
        "    def load_and_preprocess_img(img, new_size, crop, mean=[0.485, 0.456, 0.406], std=[0.229, 0.224, 0.225]):\n",
        "        compose = transforms.Compose(\n",
        "            [\n",
        "                transforms.Resize(new_size),\n",
        "                transforms.CenterCrop(crop),\n",
        "                transforms.ToTensor(),\n",
        "                transforms.Normalize(mean=mean, std=std),\n",
        "            ]\n",
        "        )\n",
        "        img = compose(img)\n",
        "        img = img.unsqueeze(0).permute((0, 2, 3, 1))\n",
        "        return img.numpy()\n",
        "\n",
        "\n",
        "    import ivy\n",
        "    ivy.set_backend(\"torch\")\n",
        "    img = ivy.asarray(load_and_preprocess_img(image, 256, 224))\n",
        "\n",
        "    return img"
      ],
      "metadata": {
        "id": "-UkNghgnjyAH"
      },
      "execution_count": 11,
      "outputs": []
    },
    {
      "cell_type": "code",
      "source": [],
      "metadata": {
        "id": "rMriER-LklaI"
      },
      "execution_count": null,
      "outputs": []
    },
    {
      "cell_type": "code",
      "source": [],
      "metadata": {
        "id": "51nr2yDzklX1"
      },
      "execution_count": null,
      "outputs": []
    },
    {
      "cell_type": "code",
      "source": [],
      "metadata": {
        "id": "kDyai_7XklVQ"
      },
      "execution_count": null,
      "outputs": []
    }
  ],
  "metadata": {
    "colab": {
      "name": "scratchpad",
      "provenance": [],
      "toc_visible": true,
      "include_colab_link": true
    },
    "kernelspec": {
      "display_name": "Python 3",
      "name": "python3"
    }
  },
  "nbformat": 4,
  "nbformat_minor": 0
}